{
  "cells": [
    {
      "cell_type": "markdown",
      "metadata": {
        "vscode": {
          "languageId": "raw"
        },
        "id": "LQkpXwEd9DTQ"
      },
      "source": [
        "<a href=\"https://colab.research.google.com/github/Spr-Aachen/Easy-Voice-Toolkit/blob/main/run.ipynb\" target=\"_parent\"><img src=\"https://colab.research.google.com/assets/colab-badge.svg\" alt=\"Open In Colab\"/></a>"
      ]
    },
    {
      "cell_type": "markdown",
      "metadata": {
        "vscode": {
          "languageId": "raw"
        },
        "id": "Fmr7-BvF9DTS"
      },
      "source": [
        "## Terms of Use"
      ]
    },
    {
      "cell_type": "markdown",
      "metadata": {
        "vscode": {
          "languageId": "raw"
        },
        "id": "ph-ROyu39DTS"
      },
      "source": [
        "**Please solve the authorization problem of the dataset on your own. You shall be solely responsible for any problems caused by the use of non-authorized datasets for training and all consequences thereof.The repository and its maintainer have nothing to do with the consequences!**\n",
        "\n",
        "1. This project is established for academic exchange purposes only and is intended for communication and learning purposes. It is not intended for production environments.\n",
        "2. Any videos based on Easy Voice Toolkit that are published on video platforms must clearly indicate in the description that they are used for voice changing and specify the input source of the voice or audio, for example, using videos or audios published by others and separating the vocals as input source for conversion, which must provide clear original video links. If your own voice or other synthesized voices from other commercial vocal synthesis software are used as the input source for conversion, you must also explain it in the description.\n",
        "3. You shall be solely responsible for any infringement problems caused by the input source. When using other commercial vocal synthesis software as input source, please ensure that you comply with the terms of use of the software. Note that many vocal synthesis engines clearly state in their terms of use that they cannot be used for input source conversion.\n",
        "4. Continuing to use this project is deemed as agreeing to the relevant provisions stated in this repository README. This repository README has the obligation to persuade, and is not responsible for any subsequent problems that may arise.\n",
        "5. If you distribute this repository's code or publish any results produced by this project publicly (including but not limited to video sharing platforms), please indicate the original author and code source (this repository).\n",
        "6. If you use this project for any other plan, please contact and inform the author of this repository in advance. Thank you very much."
      ]
    },
    {
      "cell_type": "markdown",
      "metadata": {
        "id": "K1qZ4h3w9DTU"
      },
      "source": [
        "## Configure Colab"
      ]
    },
    {
      "cell_type": "markdown",
      "metadata": {
        "id": "A1s_hHdB9DTU"
      },
      "source": [
        "### 防止断连<br>Prevent Disconnection"
      ]
    },
    {
      "cell_type": "markdown",
      "metadata": {
        "id": "EblwyDLicmnp"
      },
      "source": [
        "按住 Ctrl+Shift 再按下 I 呼出浏览器的开发工具，于控制台内输入以下内容并回车\n",
        "```\n",
        "function ConnectButton()\n",
        "{\n",
        "    console.log(\"Connect pushed\");\n",
        "    document.querySelector(\"#top-toolbar > colab-connect-button\").shadowRoot.querySelector(\"#connect\").click()\n",
        "}\n",
        "setInterval(ConnectButton,60000);\n",
        "```"
      ]
    },
    {
      "cell_type": "markdown",
      "metadata": {
        "id": "ebOW6UGL9DTW"
      },
      "source": [
        "### 使用GPU<br>Use GPU"
      ]
    },
    {
      "cell_type": "markdown",
      "metadata": {
        "id": "06BXIgTn9DTW"
      },
      "source": [
        "找到上方菜单栏“代码执行程序”——>“更改运行时类型”——>\"硬件加速器\"，选择GPU"
      ]
    },
    {
      "cell_type": "markdown",
      "metadata": {
        "id": "Qq5nA1uI9DTW"
      },
      "source": [
        "### 克隆仓库<br>Clone Repository"
      ]
    },
    {
      "cell_type": "code",
      "execution_count": 16,
      "metadata": {
        "colab": {
          "base_uri": "https://localhost:8080/"
        },
        "collapsed": true,
        "id": "AmbUt38W9DTX",
        "outputId": "3219735d-e195-4e42-db27-695121ff5380"
      },
      "outputs": [
        {
          "output_type": "stream",
          "name": "stdout",
          "text": [
            "fatal: destination path 'Easy-Voice-Toolkit' already exists and is not an empty directory.\n",
            "/content/Easy-Voice-Toolkit\n",
            "sed: can't read ./EVT_Core/GPT_SoVITS/config.py: No such file or directory\n"
          ]
        }
      ],
      "source": [
        "!git clone --recurse-submodules https://github.com/Spr-Aachen/Easy-Voice-Toolkit.git\n",
        "%cd /content/Easy-Voice-Toolkit\n",
        "!sed -i '10s/False/True/' ./EVT_Core/GPT_SoVITS/config.py"
      ]
    },
    {
      "cell_type": "markdown",
      "metadata": {
        "id": "N6D_BTUO9DTX"
      },
      "source": [
        "### 安装依赖<br>Install Dependencies"
      ]
    },
    {
      "cell_type": "code",
      "execution_count": 8,
      "metadata": {
        "colab": {
          "base_uri": "https://localhost:8080/",
          "height": 1000
        },
        "id": "HvNlIHcc9DTY",
        "outputId": "55703ae5-3033-412e-e152-d2bc556c0fb4"
      },
      "outputs": [
        {
          "output_type": "stream",
          "name": "stdout",
          "text": [
            "\r0% [Working]\r            \rHit:1 https://developer.download.nvidia.com/compute/cuda/repos/ubuntu2204/x86_64  InRelease\n",
            "Hit:2 https://cloud.r-project.org/bin/linux/ubuntu jammy-cran40/ InRelease\n",
            "Hit:3 http://security.ubuntu.com/ubuntu jammy-security InRelease\n",
            "Hit:4 http://archive.ubuntu.com/ubuntu jammy InRelease\n",
            "Hit:5 https://ppa.launchpadcontent.net/deadsnakes/ppa/ubuntu jammy InRelease\n",
            "Hit:6 http://archive.ubuntu.com/ubuntu jammy-updates InRelease\n",
            "Hit:7 https://ppa.launchpadcontent.net/graphics-drivers/ppa/ubuntu jammy InRelease\n",
            "Hit:8 https://r2u.stat.illinois.edu/ubuntu jammy InRelease\n",
            "Hit:9 https://ppa.launchpadcontent.net/ubuntugis/ppa/ubuntu jammy InRelease\n",
            "Hit:10 http://archive.ubuntu.com/ubuntu jammy-backports InRelease\n",
            "Reading package lists... Done\n",
            "W: Skipping acquire of configured file 'main/source/Sources' as repository 'https://r2u.stat.illinois.edu/ubuntu jammy InRelease' does not seem to provide it (sources.list entry misspelt?)\n",
            "Reading package lists... Done\n",
            "Building dependency tree... Done\n",
            "Reading state information... Done\n",
            "portaudio19-dev is already the newest version (19.6.0-1.1).\n",
            "0 upgraded, 0 newly installed, 0 to remove and 35 not upgraded.\n",
            "Ignoring onnxruntime: markers 'sys_platform == \"darwin\"' don't match your environment\n",
            "Ignoring opencc: markers 'sys_platform != \"linux\"' don't match your environment\n",
            "Requirement already satisfied: pydub in /usr/local/lib/python3.11/dist-packages (from -r requirements.txt (line 3)) (0.25.1)\n",
            "Requirement already satisfied: soundfile in /usr/local/lib/python3.11/dist-packages (from -r requirements.txt (line 4)) (0.13.1)\n",
            "Requirement already satisfied: librosa in /usr/local/lib/python3.11/dist-packages (from -r requirements.txt (line 5)) (0.11.0)\n",
            "Requirement already satisfied: numpy in /usr/local/lib/python3.11/dist-packages (from -r requirements.txt (line 7)) (1.26.4)\n",
            "Requirement already satisfied: visualdl in /usr/local/lib/python3.11/dist-packages (from -r requirements.txt (line 8)) (2.5.3)\n",
            "Requirement already satisfied: pyaudio in /usr/local/lib/python3.11/dist-packages (from -r requirements.txt (line 9)) (0.2.14)\n",
            "Requirement already satisfied: torchsummary in /usr/local/lib/python3.11/dist-packages (from -r requirements.txt (line 10)) (1.5.1)\n",
            "Requirement already satisfied: psutil in /usr/local/lib/python3.11/dist-packages (from -r requirements.txt (line 12)) (5.9.5)\n",
            "Requirement already satisfied: more-itertools in /usr/local/lib/python3.11/dist-packages (from -r requirements.txt (line 13)) (10.7.0)\n",
            "Requirement already satisfied: transformers>=4.43 in /usr/local/lib/python3.11/dist-packages (from -r requirements.txt (line 14)) (4.52.4)\n",
            "Requirement already satisfied: ffmpeg-python in /usr/local/lib/python3.11/dist-packages (from -r requirements.txt (line 15)) (0.2.0)\n",
            "Requirement already satisfied: num2words in /usr/local/lib/python3.11/dist-packages (from -r requirements.txt (line 17)) (0.5.14)\n",
            "Requirement already satisfied: attrdict in /usr/local/lib/python3.11/dist-packages (from -r requirements.txt (line 19)) (2.0.1)\n",
            "Requirement already satisfied: PyYAML in /usr/local/lib/python3.11/dist-packages (from -r requirements.txt (line 20)) (6.0.2)\n",
            "Requirement already satisfied: numba in /usr/local/lib/python3.11/dist-packages (from -r requirements.txt (line 21)) (0.60.0)\n",
            "Requirement already satisfied: scipy in /usr/local/lib/python3.11/dist-packages (from -r requirements.txt (line 22)) (1.15.3)\n",
            "Requirement already satisfied: matplotlib in /usr/local/lib/python3.11/dist-packages (from -r requirements.txt (line 23)) (3.10.0)\n",
            "Requirement already satisfied: protobuf in /usr/local/lib/python3.11/dist-packages (from -r requirements.txt (line 24)) (5.29.5)\n",
            "Requirement already satisfied: onnxruntime-gpu in /usr/local/lib/python3.11/dist-packages (from -r requirements.txt (line 26)) (1.22.0)\n",
            "Requirement already satisfied: tensorboard in /usr/local/lib/python3.11/dist-packages (from -r requirements.txt (line 27)) (2.18.0)\n",
            "Requirement already satisfied: peft==0.10.0 in /usr/local/lib/python3.11/dist-packages (from -r requirements.txt (line 28)) (0.10.0)\n",
            "Requirement already satisfied: rotary_embedding_torch in /usr/local/lib/python3.11/dist-packages (from -r requirements.txt (line 29)) (0.8.6)\n",
            "Requirement already satisfied: x_transformers in /usr/local/lib/python3.11/dist-packages (from -r requirements.txt (line 30)) (2.3.18)\n",
            "Requirement already satisfied: torchmetrics<=1.5 in /usr/local/lib/python3.11/dist-packages (from -r requirements.txt (line 31)) (1.5.0)\n",
            "Requirement already satisfied: inflect in /usr/local/lib/python3.11/dist-packages (from -r requirements.txt (line 32)) (7.5.0)\n",
            "Requirement already satisfied: chardet in /usr/local/lib/python3.11/dist-packages (from -r requirements.txt (line 33)) (5.2.0)\n",
            "Requirement already satisfied: unidecode in /usr/local/lib/python3.11/dist-packages (from -r requirements.txt (line 34)) (1.4.0)\n",
            "Requirement already satisfied: split-lang in /usr/local/lib/python3.11/dist-packages (from -r requirements.txt (line 35)) (2.1.0)\n",
            "Requirement already satisfied: fast_langdetect>=0.3.0 in /usr/local/lib/python3.11/dist-packages (from -r requirements.txt (line 36)) (0.3.2)\n",
            "Requirement already satisfied: sentencepiece in /usr/local/lib/python3.11/dist-packages (from -r requirements.txt (line 37)) (0.2.0)\n",
            "Requirement already satisfied: wordsegment in /usr/local/lib/python3.11/dist-packages (from -r requirements.txt (line 38)) (1.3.1)\n",
            "Requirement already satisfied: nltk in /usr/local/lib/python3.11/dist-packages (from -r requirements.txt (line 39)) (3.9.1)\n",
            "Requirement already satisfied: eng_to_ipa in /usr/local/lib/python3.11/dist-packages (from -r requirements.txt (line 40)) (0.0.2)\n",
            "Requirement already satisfied: g2p_en in /usr/local/lib/python3.11/dist-packages (from -r requirements.txt (line 41)) (2.1.0)\n",
            "Requirement already satisfied: pypinyin in /usr/local/lib/python3.11/dist-packages (from -r requirements.txt (line 42)) (0.54.0)\n",
            "Requirement already satisfied: jieba_fast in /usr/local/lib/python3.11/dist-packages (from -r requirements.txt (line 43)) (0.53)\n",
            "Requirement already satisfied: cn2an in /usr/local/lib/python3.11/dist-packages (from -r requirements.txt (line 44)) (0.5.23)\n",
            "Requirement already satisfied: ToJyutping in /usr/local/lib/python3.11/dist-packages (from -r requirements.txt (line 45)) (3.2.0)\n",
            "Requirement already satisfied: opencc==1.1.1 in /usr/local/lib/python3.11/dist-packages (from -r requirements.txt (line 47)) (1.1.1)\n",
            "Requirement already satisfied: python_mecab_ko in /usr/local/lib/python3.11/dist-packages (from -r requirements.txt (line 48)) (1.3.7)\n",
            "Requirement already satisfied: g2pk2 in /usr/local/lib/python3.11/dist-packages (from -r requirements.txt (line 49)) (0.0.3)\n",
            "Requirement already satisfied: ko_pron in /usr/local/lib/python3.11/dist-packages (from -r requirements.txt (line 50)) (1.3)\n",
            "Requirement already satisfied: pyopenjtalk>=0.3.4 in /usr/local/lib/python3.11/dist-packages (from -r requirements.txt (line 51)) (0.4.1)\n",
            "Requirement already satisfied: LangSegment>=0.2.0 in /usr/local/lib/python3.11/dist-packages (from -r requirements.txt (line 52)) (0.2.0)\n",
            "Requirement already satisfied: fastapi<0.112.2 in /usr/local/lib/python3.11/dist-packages (from -r requirements.txt (line 53)) (0.112.1)\n",
            "Requirement already satisfied: gradio<=4.24.0,>=4.0 in /usr/local/lib/python3.11/dist-packages (from -r requirements.txt (line 54)) (4.24.0)\n",
            "Requirement already satisfied: modelscope==1.10.0 in /usr/local/lib/python3.11/dist-packages (from -r requirements.txt (line 55)) (1.10.0)\n",
            "Requirement already satisfied: PyEasyUtils in /usr/local/lib/python3.11/dist-packages (from -r requirements.txt (line 57)) (0.2.4)\n",
            "Requirement already satisfied: packaging>=20.0 in /usr/local/lib/python3.11/dist-packages (from peft==0.10.0->-r requirements.txt (line 28)) (24.2)\n",
            "Requirement already satisfied: torch>=1.13.0 in /usr/local/lib/python3.11/dist-packages (from peft==0.10.0->-r requirements.txt (line 28)) (2.6.0+cu124)\n",
            "Requirement already satisfied: tqdm in /usr/local/lib/python3.11/dist-packages (from peft==0.10.0->-r requirements.txt (line 28)) (4.67.1)\n",
            "Requirement already satisfied: accelerate>=0.21.0 in /usr/local/lib/python3.11/dist-packages (from peft==0.10.0->-r requirements.txt (line 28)) (1.7.0)\n",
            "Requirement already satisfied: safetensors in /usr/local/lib/python3.11/dist-packages (from peft==0.10.0->-r requirements.txt (line 28)) (0.5.3)\n",
            "Requirement already satisfied: huggingface-hub>=0.17.0 in /usr/local/lib/python3.11/dist-packages (from peft==0.10.0->-r requirements.txt (line 28)) (0.32.4)\n",
            "Requirement already satisfied: addict in /usr/local/lib/python3.11/dist-packages (from modelscope==1.10.0->-r requirements.txt (line 55)) (2.4.0)\n",
            "Requirement already satisfied: attrs in /usr/local/lib/python3.11/dist-packages (from modelscope==1.10.0->-r requirements.txt (line 55)) (25.3.0)\n",
            "Requirement already satisfied: datasets>=2.14.5 in /usr/local/lib/python3.11/dist-packages (from modelscope==1.10.0->-r requirements.txt (line 55)) (3.6.0)\n",
            "Requirement already satisfied: einops in /usr/local/lib/python3.11/dist-packages (from modelscope==1.10.0->-r requirements.txt (line 55)) (0.8.1)\n",
            "Requirement already satisfied: filelock>=3.3.0 in /usr/local/lib/python3.11/dist-packages (from modelscope==1.10.0->-r requirements.txt (line 55)) (3.18.0)\n",
            "Requirement already satisfied: gast>=0.2.2 in /usr/local/lib/python3.11/dist-packages (from modelscope==1.10.0->-r requirements.txt (line 55)) (0.6.0)\n",
            "Requirement already satisfied: oss2 in /usr/local/lib/python3.11/dist-packages (from modelscope==1.10.0->-r requirements.txt (line 55)) (2.19.1)\n",
            "Requirement already satisfied: pandas in /usr/local/lib/python3.11/dist-packages (from modelscope==1.10.0->-r requirements.txt (line 55)) (2.2.2)\n",
            "Requirement already satisfied: Pillow>=6.2.0 in /usr/local/lib/python3.11/dist-packages (from modelscope==1.10.0->-r requirements.txt (line 55)) (10.4.0)\n",
            "Requirement already satisfied: pyarrow!=9.0.0,>=6.0.0 in /usr/local/lib/python3.11/dist-packages (from modelscope==1.10.0->-r requirements.txt (line 55)) (18.1.0)\n",
            "Requirement already satisfied: python-dateutil>=2.1 in /usr/local/lib/python3.11/dist-packages (from modelscope==1.10.0->-r requirements.txt (line 55)) (2.9.0.post0)\n",
            "Requirement already satisfied: requests>=2.25 in /usr/local/lib/python3.11/dist-packages (from modelscope==1.10.0->-r requirements.txt (line 55)) (2.32.3)\n",
            "Requirement already satisfied: setuptools in /usr/local/lib/python3.11/dist-packages (from modelscope==1.10.0->-r requirements.txt (line 55)) (75.2.0)\n",
            "Requirement already satisfied: simplejson>=3.3.0 in /usr/local/lib/python3.11/dist-packages (from modelscope==1.10.0->-r requirements.txt (line 55)) (3.20.1)\n",
            "Requirement already satisfied: sortedcontainers>=1.5.9 in /usr/local/lib/python3.11/dist-packages (from modelscope==1.10.0->-r requirements.txt (line 55)) (2.4.0)\n",
            "Requirement already satisfied: urllib3>=1.26 in /usr/local/lib/python3.11/dist-packages (from modelscope==1.10.0->-r requirements.txt (line 55)) (2.4.0)\n",
            "Requirement already satisfied: yapf in /usr/local/lib/python3.11/dist-packages (from modelscope==1.10.0->-r requirements.txt (line 55)) (0.43.0)\n",
            "Requirement already satisfied: cffi>=1.0 in /usr/local/lib/python3.11/dist-packages (from soundfile->-r requirements.txt (line 4)) (1.17.1)\n",
            "Requirement already satisfied: audioread>=2.1.9 in /usr/local/lib/python3.11/dist-packages (from librosa->-r requirements.txt (line 5)) (3.0.1)\n",
            "Requirement already satisfied: scikit-learn>=1.1.0 in /usr/local/lib/python3.11/dist-packages (from librosa->-r requirements.txt (line 5)) (1.6.1)\n",
            "Requirement already satisfied: joblib>=1.0 in /usr/local/lib/python3.11/dist-packages (from librosa->-r requirements.txt (line 5)) (1.5.1)\n",
            "Requirement already satisfied: decorator>=4.3.0 in /usr/local/lib/python3.11/dist-packages (from librosa->-r requirements.txt (line 5)) (4.4.2)\n",
            "Requirement already satisfied: pooch>=1.1 in /usr/local/lib/python3.11/dist-packages (from librosa->-r requirements.txt (line 5)) (1.8.2)\n",
            "Requirement already satisfied: soxr>=0.3.2 in /usr/local/lib/python3.11/dist-packages (from librosa->-r requirements.txt (line 5)) (0.5.0.post1)\n",
            "Requirement already satisfied: typing_extensions>=4.1.1 in /usr/local/lib/python3.11/dist-packages (from librosa->-r requirements.txt (line 5)) (4.14.0)\n",
            "Requirement already satisfied: lazy_loader>=0.1 in /usr/local/lib/python3.11/dist-packages (from librosa->-r requirements.txt (line 5)) (0.4)\n",
            "Requirement already satisfied: msgpack>=1.0 in /usr/local/lib/python3.11/dist-packages (from librosa->-r requirements.txt (line 5)) (1.1.0)\n",
            "Requirement already satisfied: bce-python-sdk in /usr/local/lib/python3.11/dist-packages (from visualdl->-r requirements.txt (line 8)) (0.9.35)\n",
            "Requirement already satisfied: flask>=1.1.1 in /usr/local/lib/python3.11/dist-packages (from visualdl->-r requirements.txt (line 8)) (3.1.1)\n",
            "Requirement already satisfied: Flask-Babel>=3.0.0 in /usr/local/lib/python3.11/dist-packages (from visualdl->-r requirements.txt (line 8)) (4.0.0)\n",
            "Requirement already satisfied: six>=1.14.0 in /usr/local/lib/python3.11/dist-packages (from visualdl->-r requirements.txt (line 8)) (1.17.0)\n",
            "Requirement already satisfied: rarfile in /usr/local/lib/python3.11/dist-packages (from visualdl->-r requirements.txt (line 8)) (4.2)\n",
            "Requirement already satisfied: regex!=2019.12.17 in /usr/local/lib/python3.11/dist-packages (from transformers>=4.43->-r requirements.txt (line 14)) (2024.11.6)\n",
            "Requirement already satisfied: tokenizers<0.22,>=0.21 in /usr/local/lib/python3.11/dist-packages (from transformers>=4.43->-r requirements.txt (line 14)) (0.21.1)\n",
            "Requirement already satisfied: future in /usr/local/lib/python3.11/dist-packages (from ffmpeg-python->-r requirements.txt (line 15)) (1.0.0)\n",
            "Requirement already satisfied: docopt>=0.6.2 in /usr/local/lib/python3.11/dist-packages (from num2words->-r requirements.txt (line 17)) (0.6.2)\n",
            "Requirement already satisfied: llvmlite<0.44,>=0.43.0dev0 in /usr/local/lib/python3.11/dist-packages (from numba->-r requirements.txt (line 21)) (0.43.0)\n",
            "Requirement already satisfied: contourpy>=1.0.1 in /usr/local/lib/python3.11/dist-packages (from matplotlib->-r requirements.txt (line 23)) (1.3.2)\n",
            "Requirement already satisfied: cycler>=0.10 in /usr/local/lib/python3.11/dist-packages (from matplotlib->-r requirements.txt (line 23)) (0.12.1)\n",
            "Requirement already satisfied: fonttools>=4.22.0 in /usr/local/lib/python3.11/dist-packages (from matplotlib->-r requirements.txt (line 23)) (4.58.1)\n",
            "Requirement already satisfied: kiwisolver>=1.3.1 in /usr/local/lib/python3.11/dist-packages (from matplotlib->-r requirements.txt (line 23)) (1.4.8)\n",
            "Requirement already satisfied: pyparsing>=2.3.1 in /usr/local/lib/python3.11/dist-packages (from matplotlib->-r requirements.txt (line 23)) (3.2.3)\n",
            "Requirement already satisfied: coloredlogs in /usr/local/lib/python3.11/dist-packages (from onnxruntime-gpu->-r requirements.txt (line 26)) (15.0.1)\n",
            "Requirement already satisfied: flatbuffers in /usr/local/lib/python3.11/dist-packages (from onnxruntime-gpu->-r requirements.txt (line 26)) (25.2.10)\n",
            "Requirement already satisfied: sympy in /usr/local/lib/python3.11/dist-packages (from onnxruntime-gpu->-r requirements.txt (line 26)) (1.13.1)\n",
            "Requirement already satisfied: absl-py>=0.4 in /usr/local/lib/python3.11/dist-packages (from tensorboard->-r requirements.txt (line 27)) (1.4.0)\n",
            "Requirement already satisfied: grpcio>=1.48.2 in /usr/local/lib/python3.11/dist-packages (from tensorboard->-r requirements.txt (line 27)) (1.72.1)\n",
            "Requirement already satisfied: markdown>=2.6.8 in /usr/local/lib/python3.11/dist-packages (from tensorboard->-r requirements.txt (line 27)) (3.8)\n",
            "Requirement already satisfied: tensorboard-data-server<0.8.0,>=0.7.0 in /usr/local/lib/python3.11/dist-packages (from tensorboard->-r requirements.txt (line 27)) (0.7.2)\n",
            "Requirement already satisfied: werkzeug>=1.0.1 in /usr/local/lib/python3.11/dist-packages (from tensorboard->-r requirements.txt (line 27)) (3.1.3)\n",
            "Requirement already satisfied: einx>=0.3.0 in /usr/local/lib/python3.11/dist-packages (from x_transformers->-r requirements.txt (line 30)) (0.3.0)\n",
            "Requirement already satisfied: loguru in /usr/local/lib/python3.11/dist-packages (from x_transformers->-r requirements.txt (line 30)) (0.7.3)\n",
            "Requirement already satisfied: lightning-utilities>=0.8.0 in /usr/local/lib/python3.11/dist-packages (from torchmetrics<=1.5->-r requirements.txt (line 31)) (0.14.3)\n",
            "Requirement already satisfied: typeguard>=4.0.1 in /usr/local/lib/python3.11/dist-packages (from inflect->-r requirements.txt (line 32)) (4.4.2)\n",
            "Requirement already satisfied: pydantic in /usr/local/lib/python3.11/dist-packages (from split-lang->-r requirements.txt (line 35)) (2.11.5)\n",
            "Requirement already satisfied: budoux in /usr/local/lib/python3.11/dist-packages (from split-lang->-r requirements.txt (line 35)) (0.7.0)\n",
            "Requirement already satisfied: robust-downloader>=0.0.2 in /usr/local/lib/python3.11/dist-packages (from fast_langdetect>=0.3.0->-r requirements.txt (line 36)) (0.0.2)\n",
            "Requirement already satisfied: fasttext-predict>=0.9.2.4 in /usr/local/lib/python3.11/dist-packages (from fast_langdetect>=0.3.0->-r requirements.txt (line 36)) (0.9.2.4)\n",
            "Requirement already satisfied: click in /usr/local/lib/python3.11/dist-packages (from nltk->-r requirements.txt (line 39)) (8.2.1)\n",
            "Requirement already satisfied: distance>=0.1.3 in /usr/local/lib/python3.11/dist-packages (from g2p_en->-r requirements.txt (line 41)) (0.1.3)\n",
            "Requirement already satisfied: proces>=0.1.7 in /usr/local/lib/python3.11/dist-packages (from cn2an->-r requirements.txt (line 44)) (0.1.7)\n",
            "Requirement already satisfied: python-mecab-ko-dic in /usr/local/lib/python3.11/dist-packages (from python_mecab_ko->-r requirements.txt (line 48)) (2.1.1.post2)\n",
            "Requirement already satisfied: jamo in /usr/local/lib/python3.11/dist-packages (from g2pk2->-r requirements.txt (line 49)) (0.4.1)\n",
            "Requirement already satisfied: py3langid>=0.2.2 in /usr/local/lib/python3.11/dist-packages (from LangSegment>=0.2.0->-r requirements.txt (line 52)) (0.2.2)\n",
            "Requirement already satisfied: starlette<0.39.0,>=0.37.2 in /usr/local/lib/python3.11/dist-packages (from fastapi<0.112.2->-r requirements.txt (line 53)) (0.38.6)\n",
            "Requirement already satisfied: aiofiles<24.0,>=22.0 in /usr/local/lib/python3.11/dist-packages (from gradio<=4.24.0,>=4.0->-r requirements.txt (line 54)) (23.2.1)\n",
            "Requirement already satisfied: altair<6.0,>=4.2.0 in /usr/local/lib/python3.11/dist-packages (from gradio<=4.24.0,>=4.0->-r requirements.txt (line 54)) (5.5.0)\n",
            "Requirement already satisfied: ffmpy in /usr/local/lib/python3.11/dist-packages (from gradio<=4.24.0,>=4.0->-r requirements.txt (line 54)) (0.6.0)\n",
            "Requirement already satisfied: gradio-client==0.14.0 in /usr/local/lib/python3.11/dist-packages (from gradio<=4.24.0,>=4.0->-r requirements.txt (line 54)) (0.14.0)\n",
            "Requirement already satisfied: httpx>=0.24.1 in /usr/local/lib/python3.11/dist-packages (from gradio<=4.24.0,>=4.0->-r requirements.txt (line 54)) (0.28.1)\n",
            "Requirement already satisfied: importlib-resources<7.0,>=1.3 in /usr/local/lib/python3.11/dist-packages (from gradio<=4.24.0,>=4.0->-r requirements.txt (line 54)) (6.5.2)\n",
            "Requirement already satisfied: jinja2<4.0 in /usr/local/lib/python3.11/dist-packages (from gradio<=4.24.0,>=4.0->-r requirements.txt (line 54)) (3.1.6)\n",
            "Requirement already satisfied: markupsafe~=2.0 in /usr/local/lib/python3.11/dist-packages (from gradio<=4.24.0,>=4.0->-r requirements.txt (line 54)) (2.1.5)\n",
            "Requirement already satisfied: orjson~=3.0 in /usr/local/lib/python3.11/dist-packages (from gradio<=4.24.0,>=4.0->-r requirements.txt (line 54)) (3.10.18)\n",
            "Requirement already satisfied: python-multipart>=0.0.9 in /usr/local/lib/python3.11/dist-packages (from gradio<=4.24.0,>=4.0->-r requirements.txt (line 54)) (0.0.20)\n",
            "Requirement already satisfied: ruff>=0.2.2 in /usr/local/lib/python3.11/dist-packages (from gradio<=4.24.0,>=4.0->-r requirements.txt (line 54)) (0.11.12)\n",
            "Requirement already satisfied: semantic-version~=2.0 in /usr/local/lib/python3.11/dist-packages (from gradio<=4.24.0,>=4.0->-r requirements.txt (line 54)) (2.10.0)\n",
            "Requirement already satisfied: tomlkit==0.12.0 in /usr/local/lib/python3.11/dist-packages (from gradio<=4.24.0,>=4.0->-r requirements.txt (line 54)) (0.12.0)\n",
            "Requirement already satisfied: typer<1.0,>=0.9 in /usr/local/lib/python3.11/dist-packages (from typer[all]<1.0,>=0.9; sys_platform != \"emscripten\"->gradio<=4.24.0,>=4.0->-r requirements.txt (line 54)) (0.16.0)\n",
            "Requirement already satisfied: uvicorn>=0.14.0 in /usr/local/lib/python3.11/dist-packages (from gradio<=4.24.0,>=4.0->-r requirements.txt (line 54)) (0.34.3)\n",
            "Requirement already satisfied: fsspec in /usr/local/lib/python3.11/dist-packages (from gradio-client==0.14.0->gradio<=4.24.0,>=4.0->-r requirements.txt (line 54)) (2025.3.0)\n",
            "Requirement already satisfied: websockets<12.0,>=10.0 in /usr/local/lib/python3.11/dist-packages (from gradio-client==0.14.0->gradio<=4.24.0,>=4.0->-r requirements.txt (line 54)) (11.0.3)\n",
            "Requirement already satisfied: polars in /usr/local/lib/python3.11/dist-packages (from PyEasyUtils->-r requirements.txt (line 57)) (1.21.0)\n",
            "Requirement already satisfied: sqlalchemy in /usr/local/lib/python3.11/dist-packages (from PyEasyUtils->-r requirements.txt (line 57)) (2.0.41)\n",
            "Requirement already satisfied: json-repair in /usr/local/lib/python3.11/dist-packages (from PyEasyUtils->-r requirements.txt (line 57)) (0.46.2)\n",
            "Requirement already satisfied: nvidia-ml-py in /usr/local/lib/python3.11/dist-packages (from PyEasyUtils->-r requirements.txt (line 57)) (12.575.51)\n",
            "Requirement already satisfied: PyGithub in /usr/local/lib/python3.11/dist-packages (from PyEasyUtils->-r requirements.txt (line 57)) (2.6.1)\n",
            "Requirement already satisfied: jsonschema>=3.0 in /usr/local/lib/python3.11/dist-packages (from altair<6.0,>=4.2.0->gradio<=4.24.0,>=4.0->-r requirements.txt (line 54)) (4.24.0)\n",
            "Requirement already satisfied: narwhals>=1.14.2 in /usr/local/lib/python3.11/dist-packages (from altair<6.0,>=4.2.0->gradio<=4.24.0,>=4.0->-r requirements.txt (line 54)) (1.41.0)\n",
            "Requirement already satisfied: pycparser in /usr/local/lib/python3.11/dist-packages (from cffi>=1.0->soundfile->-r requirements.txt (line 4)) (2.22)\n",
            "Requirement already satisfied: dill<0.3.9,>=0.3.0 in /usr/local/lib/python3.11/dist-packages (from datasets>=2.14.5->modelscope==1.10.0->-r requirements.txt (line 55)) (0.3.7)\n",
            "Requirement already satisfied: xxhash in /usr/local/lib/python3.11/dist-packages (from datasets>=2.14.5->modelscope==1.10.0->-r requirements.txt (line 55)) (3.5.0)\n",
            "Requirement already satisfied: multiprocess<0.70.17 in /usr/local/lib/python3.11/dist-packages (from datasets>=2.14.5->modelscope==1.10.0->-r requirements.txt (line 55)) (0.70.15)\n",
            "Requirement already satisfied: frozendict in /usr/local/lib/python3.11/dist-packages (from einx>=0.3.0->x_transformers->-r requirements.txt (line 30)) (2.4.6)\n",
            "Requirement already satisfied: blinker>=1.9.0 in /usr/local/lib/python3.11/dist-packages (from flask>=1.1.1->visualdl->-r requirements.txt (line 8)) (1.9.0)\n",
            "Requirement already satisfied: itsdangerous>=2.2.0 in /usr/local/lib/python3.11/dist-packages (from flask>=1.1.1->visualdl->-r requirements.txt (line 8)) (2.2.0)\n",
            "Requirement already satisfied: Babel>=2.12 in /usr/local/lib/python3.11/dist-packages (from Flask-Babel>=3.0.0->visualdl->-r requirements.txt (line 8)) (2.17.0)\n",
            "Requirement already satisfied: pytz>=2022.7 in /usr/local/lib/python3.11/dist-packages (from Flask-Babel>=3.0.0->visualdl->-r requirements.txt (line 8)) (2025.2)\n",
            "Requirement already satisfied: anyio in /usr/local/lib/python3.11/dist-packages (from httpx>=0.24.1->gradio<=4.24.0,>=4.0->-r requirements.txt (line 54)) (4.9.0)\n",
            "Requirement already satisfied: certifi in /usr/local/lib/python3.11/dist-packages (from httpx>=0.24.1->gradio<=4.24.0,>=4.0->-r requirements.txt (line 54)) (2025.4.26)\n",
            "Requirement already satisfied: httpcore==1.* in /usr/local/lib/python3.11/dist-packages (from httpx>=0.24.1->gradio<=4.24.0,>=4.0->-r requirements.txt (line 54)) (1.0.9)\n",
            "Requirement already satisfied: idna in /usr/local/lib/python3.11/dist-packages (from httpx>=0.24.1->gradio<=4.24.0,>=4.0->-r requirements.txt (line 54)) (3.10)\n",
            "Requirement already satisfied: h11>=0.16 in /usr/local/lib/python3.11/dist-packages (from httpcore==1.*->httpx>=0.24.1->gradio<=4.24.0,>=4.0->-r requirements.txt (line 54)) (0.16.0)\n",
            "Requirement already satisfied: hf-xet<2.0.0,>=1.1.2 in /usr/local/lib/python3.11/dist-packages (from huggingface-hub>=0.17.0->peft==0.10.0->-r requirements.txt (line 28)) (1.1.2)\n",
            "Requirement already satisfied: tzdata>=2022.7 in /usr/local/lib/python3.11/dist-packages (from pandas->modelscope==1.10.0->-r requirements.txt (line 55)) (2025.2)\n",
            "Requirement already satisfied: platformdirs>=2.5.0 in /usr/local/lib/python3.11/dist-packages (from pooch>=1.1->librosa->-r requirements.txt (line 5)) (4.3.8)\n",
            "Requirement already satisfied: annotated-types>=0.6.0 in /usr/local/lib/python3.11/dist-packages (from pydantic->split-lang->-r requirements.txt (line 35)) (0.7.0)\n",
            "Requirement already satisfied: pydantic-core==2.33.2 in /usr/local/lib/python3.11/dist-packages (from pydantic->split-lang->-r requirements.txt (line 35)) (2.33.2)\n",
            "Requirement already satisfied: typing-inspection>=0.4.0 in /usr/local/lib/python3.11/dist-packages (from pydantic->split-lang->-r requirements.txt (line 35)) (0.4.1)\n",
            "Requirement already satisfied: charset-normalizer<4,>=2 in /usr/local/lib/python3.11/dist-packages (from requests>=2.25->modelscope==1.10.0->-r requirements.txt (line 55)) (3.4.2)\n",
            "Requirement already satisfied: colorlog in /usr/local/lib/python3.11/dist-packages (from robust-downloader>=0.0.2->fast_langdetect>=0.3.0->-r requirements.txt (line 36)) (6.9.0)\n",
            "Requirement already satisfied: threadpoolctl>=3.1.0 in /usr/local/lib/python3.11/dist-packages (from scikit-learn>=1.1.0->librosa->-r requirements.txt (line 5)) (3.6.0)\n",
            "Requirement already satisfied: networkx in /usr/local/lib/python3.11/dist-packages (from torch>=1.13.0->peft==0.10.0->-r requirements.txt (line 28)) (3.5)\n",
            "Requirement already satisfied: nvidia-cuda-nvrtc-cu12==12.4.127 in /usr/local/lib/python3.11/dist-packages (from torch>=1.13.0->peft==0.10.0->-r requirements.txt (line 28)) (12.4.127)\n",
            "Requirement already satisfied: nvidia-cuda-runtime-cu12==12.4.127 in /usr/local/lib/python3.11/dist-packages (from torch>=1.13.0->peft==0.10.0->-r requirements.txt (line 28)) (12.4.127)\n",
            "Requirement already satisfied: nvidia-cuda-cupti-cu12==12.4.127 in /usr/local/lib/python3.11/dist-packages (from torch>=1.13.0->peft==0.10.0->-r requirements.txt (line 28)) (12.4.127)\n",
            "Requirement already satisfied: nvidia-cudnn-cu12==9.1.0.70 in /usr/local/lib/python3.11/dist-packages (from torch>=1.13.0->peft==0.10.0->-r requirements.txt (line 28)) (9.1.0.70)\n",
            "Requirement already satisfied: nvidia-cublas-cu12==12.4.5.8 in /usr/local/lib/python3.11/dist-packages (from torch>=1.13.0->peft==0.10.0->-r requirements.txt (line 28)) (12.4.5.8)\n",
            "Requirement already satisfied: nvidia-cufft-cu12==11.2.1.3 in /usr/local/lib/python3.11/dist-packages (from torch>=1.13.0->peft==0.10.0->-r requirements.txt (line 28)) (11.2.1.3)\n",
            "Requirement already satisfied: nvidia-curand-cu12==10.3.5.147 in /usr/local/lib/python3.11/dist-packages (from torch>=1.13.0->peft==0.10.0->-r requirements.txt (line 28)) (10.3.5.147)\n",
            "Requirement already satisfied: nvidia-cusolver-cu12==11.6.1.9 in /usr/local/lib/python3.11/dist-packages (from torch>=1.13.0->peft==0.10.0->-r requirements.txt (line 28)) (11.6.1.9)\n",
            "Requirement already satisfied: nvidia-cusparse-cu12==12.3.1.170 in /usr/local/lib/python3.11/dist-packages (from torch>=1.13.0->peft==0.10.0->-r requirements.txt (line 28)) (12.3.1.170)\n",
            "Requirement already satisfied: nvidia-cusparselt-cu12==0.6.2 in /usr/local/lib/python3.11/dist-packages (from torch>=1.13.0->peft==0.10.0->-r requirements.txt (line 28)) (0.6.2)\n",
            "Requirement already satisfied: nvidia-nccl-cu12==2.21.5 in /usr/local/lib/python3.11/dist-packages (from torch>=1.13.0->peft==0.10.0->-r requirements.txt (line 28)) (2.21.5)\n",
            "Requirement already satisfied: nvidia-nvtx-cu12==12.4.127 in /usr/local/lib/python3.11/dist-packages (from torch>=1.13.0->peft==0.10.0->-r requirements.txt (line 28)) (12.4.127)\n",
            "Requirement already satisfied: nvidia-nvjitlink-cu12==12.4.127 in /usr/local/lib/python3.11/dist-packages (from torch>=1.13.0->peft==0.10.0->-r requirements.txt (line 28)) (12.4.127)\n",
            "Requirement already satisfied: triton==3.2.0 in /usr/local/lib/python3.11/dist-packages (from torch>=1.13.0->peft==0.10.0->-r requirements.txt (line 28)) (3.2.0)\n",
            "Requirement already satisfied: mpmath<1.4,>=1.1.0 in /usr/local/lib/python3.11/dist-packages (from sympy->onnxruntime-gpu->-r requirements.txt (line 26)) (1.3.0)\n",
            "Requirement already satisfied: shellingham>=1.3.0 in /usr/local/lib/python3.11/dist-packages (from typer<1.0,>=0.9->typer[all]<1.0,>=0.9; sys_platform != \"emscripten\"->gradio<=4.24.0,>=4.0->-r requirements.txt (line 54)) (1.5.4)\n",
            "Requirement already satisfied: rich>=10.11.0 in /usr/local/lib/python3.11/dist-packages (from typer<1.0,>=0.9->typer[all]<1.0,>=0.9; sys_platform != \"emscripten\"->gradio<=4.24.0,>=4.0->-r requirements.txt (line 54)) (13.9.4)\n",
            "\u001b[33mWARNING: typer 0.16.0 does not provide the extra 'all'\u001b[0m\u001b[33m\n",
            "\u001b[0mRequirement already satisfied: pycryptodome>=3.8.0 in /usr/local/lib/python3.11/dist-packages (from bce-python-sdk->visualdl->-r requirements.txt (line 8)) (3.23.0)\n",
            "Requirement already satisfied: humanfriendly>=9.1 in /usr/local/lib/python3.11/dist-packages (from coloredlogs->onnxruntime-gpu->-r requirements.txt (line 26)) (10.0)\n",
            "Requirement already satisfied: crcmod>=1.7 in /usr/local/lib/python3.11/dist-packages (from oss2->modelscope==1.10.0->-r requirements.txt (line 55)) (1.7)\n",
            "Requirement already satisfied: aliyun-python-sdk-kms>=2.4.1 in /usr/local/lib/python3.11/dist-packages (from oss2->modelscope==1.10.0->-r requirements.txt (line 55)) (2.16.5)\n",
            "Requirement already satisfied: aliyun-python-sdk-core>=2.13.12 in /usr/local/lib/python3.11/dist-packages (from oss2->modelscope==1.10.0->-r requirements.txt (line 55)) (2.16.0)\n",
            "Requirement already satisfied: pynacl>=1.4.0 in /usr/local/lib/python3.11/dist-packages (from PyGithub->PyEasyUtils->-r requirements.txt (line 57)) (1.5.0)\n",
            "Requirement already satisfied: pyjwt>=2.4.0 in /usr/local/lib/python3.11/dist-packages (from pyjwt[crypto]>=2.4.0->PyGithub->PyEasyUtils->-r requirements.txt (line 57)) (2.10.1)\n",
            "Requirement already satisfied: Deprecated in /usr/local/lib/python3.11/dist-packages (from PyGithub->PyEasyUtils->-r requirements.txt (line 57)) (1.2.18)\n",
            "Requirement already satisfied: greenlet>=1 in /usr/local/lib/python3.11/dist-packages (from sqlalchemy->PyEasyUtils->-r requirements.txt (line 57)) (3.2.2)\n",
            "Requirement already satisfied: jmespath<1.0.0,>=0.9.3 in /usr/local/lib/python3.11/dist-packages (from aliyun-python-sdk-core>=2.13.12->oss2->modelscope==1.10.0->-r requirements.txt (line 55)) (0.10.0)\n",
            "Requirement already satisfied: cryptography>=3.0.0 in /usr/local/lib/python3.11/dist-packages (from aliyun-python-sdk-core>=2.13.12->oss2->modelscope==1.10.0->-r requirements.txt (line 55)) (43.0.3)\n",
            "Requirement already satisfied: sniffio>=1.1 in /usr/local/lib/python3.11/dist-packages (from anyio->httpx>=0.24.1->gradio<=4.24.0,>=4.0->-r requirements.txt (line 54)) (1.3.1)\n",
            "Requirement already satisfied: aiohttp!=4.0.0a0,!=4.0.0a1 in /usr/local/lib/python3.11/dist-packages (from fsspec[http]<=2025.3.0,>=2023.1.0->datasets>=2.14.5->modelscope==1.10.0->-r requirements.txt (line 55)) (3.11.15)\n",
            "Requirement already satisfied: jsonschema-specifications>=2023.03.6 in /usr/local/lib/python3.11/dist-packages (from jsonschema>=3.0->altair<6.0,>=4.2.0->gradio<=4.24.0,>=4.0->-r requirements.txt (line 54)) (2025.4.1)\n",
            "Requirement already satisfied: referencing>=0.28.4 in /usr/local/lib/python3.11/dist-packages (from jsonschema>=3.0->altair<6.0,>=4.2.0->gradio<=4.24.0,>=4.0->-r requirements.txt (line 54)) (0.36.2)\n",
            "Requirement already satisfied: rpds-py>=0.7.1 in /usr/local/lib/python3.11/dist-packages (from jsonschema>=3.0->altair<6.0,>=4.2.0->gradio<=4.24.0,>=4.0->-r requirements.txt (line 54)) (0.25.1)\n",
            "Requirement already satisfied: markdown-it-py>=2.2.0 in /usr/local/lib/python3.11/dist-packages (from rich>=10.11.0->typer<1.0,>=0.9->typer[all]<1.0,>=0.9; sys_platform != \"emscripten\"->gradio<=4.24.0,>=4.0->-r requirements.txt (line 54)) (3.0.0)\n",
            "Requirement already satisfied: pygments<3.0.0,>=2.13.0 in /usr/local/lib/python3.11/dist-packages (from rich>=10.11.0->typer<1.0,>=0.9->typer[all]<1.0,>=0.9; sys_platform != \"emscripten\"->gradio<=4.24.0,>=4.0->-r requirements.txt (line 54)) (2.19.1)\n",
            "Requirement already satisfied: wrapt<2,>=1.10 in /usr/local/lib/python3.11/dist-packages (from Deprecated->PyGithub->PyEasyUtils->-r requirements.txt (line 57)) (1.17.2)\n",
            "Requirement already satisfied: aiohappyeyeballs>=2.3.0 in /usr/local/lib/python3.11/dist-packages (from aiohttp!=4.0.0a0,!=4.0.0a1->fsspec[http]<=2025.3.0,>=2023.1.0->datasets>=2.14.5->modelscope==1.10.0->-r requirements.txt (line 55)) (2.6.1)\n",
            "Requirement already satisfied: aiosignal>=1.1.2 in /usr/local/lib/python3.11/dist-packages (from aiohttp!=4.0.0a0,!=4.0.0a1->fsspec[http]<=2025.3.0,>=2023.1.0->datasets>=2.14.5->modelscope==1.10.0->-r requirements.txt (line 55)) (1.3.2)\n",
            "Requirement already satisfied: frozenlist>=1.1.1 in /usr/local/lib/python3.11/dist-packages (from aiohttp!=4.0.0a0,!=4.0.0a1->fsspec[http]<=2025.3.0,>=2023.1.0->datasets>=2.14.5->modelscope==1.10.0->-r requirements.txt (line 55)) (1.6.0)\n",
            "Requirement already satisfied: multidict<7.0,>=4.5 in /usr/local/lib/python3.11/dist-packages (from aiohttp!=4.0.0a0,!=4.0.0a1->fsspec[http]<=2025.3.0,>=2023.1.0->datasets>=2.14.5->modelscope==1.10.0->-r requirements.txt (line 55)) (6.4.4)\n",
            "Requirement already satisfied: propcache>=0.2.0 in /usr/local/lib/python3.11/dist-packages (from aiohttp!=4.0.0a0,!=4.0.0a1->fsspec[http]<=2025.3.0,>=2023.1.0->datasets>=2.14.5->modelscope==1.10.0->-r requirements.txt (line 55)) (0.3.1)\n",
            "Requirement already satisfied: yarl<2.0,>=1.17.0 in /usr/local/lib/python3.11/dist-packages (from aiohttp!=4.0.0a0,!=4.0.0a1->fsspec[http]<=2025.3.0,>=2023.1.0->datasets>=2.14.5->modelscope==1.10.0->-r requirements.txt (line 55)) (1.20.0)\n",
            "Requirement already satisfied: mdurl~=0.1 in /usr/local/lib/python3.11/dist-packages (from markdown-it-py>=2.2.0->rich>=10.11.0->typer<1.0,>=0.9->typer[all]<1.0,>=0.9; sys_platform != \"emscripten\"->gradio<=4.24.0,>=4.0->-r requirements.txt (line 54)) (0.1.2)\n",
            "Requirement already satisfied: ipykernel in /usr/local/lib/python3.11/dist-packages (6.17.1)\n",
            "Requirement already satisfied: debugpy>=1.0 in /usr/local/lib/python3.11/dist-packages (from ipykernel) (1.8.0)\n",
            "Requirement already satisfied: ipython>=7.23.1 in /usr/local/lib/python3.11/dist-packages (from ipykernel) (7.34.0)\n",
            "Requirement already satisfied: jupyter-client>=6.1.12 in /usr/local/lib/python3.11/dist-packages (from ipykernel) (6.1.12)\n",
            "Requirement already satisfied: matplotlib-inline>=0.1 in /usr/local/lib/python3.11/dist-packages (from ipykernel) (0.1.7)\n",
            "Requirement already satisfied: nest-asyncio in /usr/local/lib/python3.11/dist-packages (from ipykernel) (1.6.0)\n",
            "Requirement already satisfied: packaging in /usr/local/lib/python3.11/dist-packages (from ipykernel) (24.2)\n",
            "Requirement already satisfied: psutil in /usr/local/lib/python3.11/dist-packages (from ipykernel) (5.9.5)\n",
            "Requirement already satisfied: pyzmq>=17 in /usr/local/lib/python3.11/dist-packages (from ipykernel) (24.0.1)\n",
            "Requirement already satisfied: tornado>=6.1 in /usr/local/lib/python3.11/dist-packages (from ipykernel) (6.4.2)\n",
            "Requirement already satisfied: traitlets>=5.1.0 in /usr/local/lib/python3.11/dist-packages (from ipykernel) (5.7.1)\n",
            "Requirement already satisfied: setuptools>=18.5 in /usr/local/lib/python3.11/dist-packages (from ipython>=7.23.1->ipykernel) (75.2.0)\n",
            "Requirement already satisfied: jedi>=0.16 in /usr/local/lib/python3.11/dist-packages (from ipython>=7.23.1->ipykernel) (0.19.2)\n",
            "Requirement already satisfied: decorator in /usr/local/lib/python3.11/dist-packages (from ipython>=7.23.1->ipykernel) (4.4.2)\n",
            "Requirement already satisfied: pickleshare in /usr/local/lib/python3.11/dist-packages (from ipython>=7.23.1->ipykernel) (0.7.5)\n",
            "Requirement already satisfied: prompt-toolkit!=3.0.0,!=3.0.1,<3.1.0,>=2.0.0 in /usr/local/lib/python3.11/dist-packages (from ipython>=7.23.1->ipykernel) (3.0.51)\n",
            "Requirement already satisfied: pygments in /usr/local/lib/python3.11/dist-packages (from ipython>=7.23.1->ipykernel) (2.19.1)\n",
            "Requirement already satisfied: backcall in /usr/local/lib/python3.11/dist-packages (from ipython>=7.23.1->ipykernel) (0.2.0)\n",
            "Requirement already satisfied: pexpect>4.3 in /usr/local/lib/python3.11/dist-packages (from ipython>=7.23.1->ipykernel) (4.9.0)\n",
            "Requirement already satisfied: jupyter-core>=4.6.0 in /usr/local/lib/python3.11/dist-packages (from jupyter-client>=6.1.12->ipykernel) (5.8.1)\n",
            "Requirement already satisfied: python-dateutil>=2.1 in /usr/local/lib/python3.11/dist-packages (from jupyter-client>=6.1.12->ipykernel) (2.9.0.post0)\n",
            "Requirement already satisfied: parso<0.9.0,>=0.8.4 in /usr/local/lib/python3.11/dist-packages (from jedi>=0.16->ipython>=7.23.1->ipykernel) (0.8.4)\n",
            "Requirement already satisfied: platformdirs>=2.5 in /usr/local/lib/python3.11/dist-packages (from jupyter-core>=4.6.0->jupyter-client>=6.1.12->ipykernel) (4.3.8)\n",
            "Requirement already satisfied: ptyprocess>=0.5 in /usr/local/lib/python3.11/dist-packages (from pexpect>4.3->ipython>=7.23.1->ipykernel) (0.7.0)\n",
            "Requirement already satisfied: wcwidth in /usr/local/lib/python3.11/dist-packages (from prompt-toolkit!=3.0.0,!=3.0.1,<3.1.0,>=2.0.0->ipython>=7.23.1->ipykernel) (0.2.13)\n",
            "Requirement already satisfied: six>=1.5 in /usr/local/lib/python3.11/dist-packages (from python-dateutil>=2.1->jupyter-client>=6.1.12->ipykernel) (1.17.0)\n"
          ]
        },
        {
          "output_type": "execute_result",
          "data": {
            "text/plain": [
              "'\\n!apt-get install python3.9\\n!cp -r /usr/local/lib/python3.10/dist-packages /usr/local/lib/python3.9/\\n'"
            ],
            "application/vnd.google.colaboratory.intrinsic+json": {
              "type": "string"
            }
          },
          "metadata": {},
          "execution_count": 8
        }
      ],
      "source": [
        "!apt-get update``\n",
        "!apt-get install portaudio19-dev\n",
        "!pip3 install -r requirements.txt\n",
        "#!pip3 install --force-reinstall --yes torch torchvision torchaudio\n",
        "!/usr/local/bin/pip install ipykernel\n",
        "'''\n",
        "!apt-get install python3.9\n",
        "!cp -r /usr/local/lib/python3.10/dist-packages /usr/local/lib/python3.9/\n",
        "'''\n",
        "#exit() # Enable this only when you decide to delete the runtime"
      ]
    },
    {
      "cell_type": "markdown",
      "metadata": {
        "id": "GTL1G4yH9DTY"
      },
      "source": [
        "### 下载模型<br>Download Models"
      ]
    },
    {
      "cell_type": "code",
      "execution_count": 9,
      "metadata": {
        "colab": {
          "base_uri": "https://localhost:8080/"
        },
        "id": "PhX8WY3Q9DTY",
        "outputId": "8df7bd1a-2bd4-4a58-e2f7-bc043a0d7908"
      },
      "outputs": [
        {
          "output_type": "stream",
          "name": "stdout",
          "text": [
            "/content/models/download/uvr5\n",
            "fatal: destination path 'uvr5_weights' already exists and is not an empty directory.\n",
            "mv: cannot stat '/content/models/download/uvr5/uvr5_weights/*': No such file or directory\n",
            "/content/models/download/VPR\n",
            "fatal: destination path 'VPR' already exists and is not an empty directory.\n",
            "mv: cannot stat '/content/models/download/VPR/VPR/*': No such file or directory\n",
            "/content/models/download/Whisper\n",
            "fatal: destination path 'Whisper' already exists and is not an empty directory.\n",
            "mv: cannot stat '/content/models/download/Whisper/Whisper/*': No such file or directory\n",
            "/content/models/download/GPT-SoVITS\n",
            "fatal: destination path 'GPT-SoVITS' already exists and is not an empty directory.\n",
            "mv: cannot stat '/content/models/download/GPT-SoVITS/GPT-SoVITS/*': No such file or directory\n"
          ]
        }
      ],
      "source": [
        "# get UVR5 models\n",
        "!mkdir -p /content/models/download/uvr5\n",
        "%cd /content/models/download/uvr5\n",
        "!git clone https://huggingface.co/Delik/uvr5_weights\n",
        "!mv /content/models/download/uvr5/uvr5_weights/* /content/models/download/uvr5/\n",
        "# get VPR models\n",
        "!mkdir -p /content/models/download/VPR\n",
        "%cd /content/models/download/VPR\n",
        "!git clone https://huggingface.co/SprAachen/VPR\n",
        "!mv /content/models/download/VPR/VPR/* /content/models/download/VPR\n",
        "# get Whisper models\n",
        "!mkdir -p /content/models/download/Whisper\n",
        "%cd /content/models/download/Whisper\n",
        "!git clone https://huggingface.co/SprAachen/Whisper\n",
        "!mv /content/models/download/Whisper/Whisper/* /content/models/download/Whisper\n",
        "# get GPT-SoVITS pretrains\n",
        "!mkdir -p /content/models/download/GPT-SoVITS\n",
        "%cd /content/models/download/GPT-SoVITS\n",
        "!git clone https://huggingface.co/lj1995/GPT-SoVITS\n",
        "!mv /content/models/download/GPT-SoVITS/GPT-SoVITS/* /content/models/download/GPT-SoVITS/\n",
        "# get VITS pretrains\n",
        "# **暂无，抱歉 Not Available**"
      ]
    },
    {
      "cell_type": "markdown",
      "metadata": {
        "id": "K6f6u7Kb9DTY"
      },
      "source": [
        "### 装载硬盘<br>Mount Google Drive"
      ]
    },
    {
      "cell_type": "code",
      "execution_count": 5,
      "metadata": {
        "colab": {
          "base_uri": "https://localhost:8080/"
        },
        "id": "7HsQaIiX9DTZ",
        "outputId": "92aafe83-37f3-40d0-d66e-1df4e0cbaf7b"
      },
      "outputs": [
        {
          "output_type": "stream",
          "name": "stdout",
          "text": [
            "Drive already mounted at /content/drive; to attempt to forcibly remount, call drive.mount(\"/content/drive\", force_remount=True).\n"
          ]
        }
      ],
      "source": [
        "from google.colab import drive\n",
        "drive.mount('/content/drive')"
      ]
    },
    {
      "cell_type": "markdown",
      "metadata": {
        "id": "rJuAKor49DTZ"
      },
      "source": [
        "### 准备文件<br>Prepare Files"
      ]
    },
    {
      "cell_type": "markdown",
      "metadata": {
        "id": "u6GfFMzy9DTZ"
      },
      "source": [
        "检查是否已将需要处理的文件上传到了 https://drive.google.com/drive/my-drive 中"
      ]
    },
    {
      "cell_type": "markdown",
      "metadata": {
        "id": "aCf6GSSD9DTZ"
      },
      "source": [
        "## Run Tools"
      ]
    },
    {
      "cell_type": "markdown",
      "metadata": {
        "id": "ZwumeInH9DTZ"
      },
      "source": [
        "### 音频处理 AudioProcessor\n",
        "将媒体文件批量转换为音频文件然后自动切除音频的静音部分"
      ]
    },
    {
      "cell_type": "code",
      "execution_count": 18,
      "metadata": {
        "colab": {
          "base_uri": "https://localhost:8080/",
          "height": 228
        },
        "id": "NI3ugvbN9DTZ",
        "outputId": "ef29acef-a3b5-4b3e-8773-469fa40e9321"
      },
      "outputs": [
        {
          "output_type": "stream",
          "name": "stdout",
          "text": [
            "/content/Easy-Voice-Toolkit\n"
          ]
        },
        {
          "output_type": "error",
          "ename": "NameError",
          "evalue": "name 'Audio_Processing' is not defined",
          "traceback": [
            "\u001b[0;31m---------------------------------------------------------------------------\u001b[0m",
            "\u001b[0;31mNameError\u001b[0m                                 Traceback (most recent call last)",
            "\u001b[0;32m<ipython-input-18-1505015319>\u001b[0m in \u001b[0;36m<cell line: 0>\u001b[0;34m()\u001b[0m\n\u001b[1;32m     35\u001b[0m \u001b[0mMedia_Dir_Output\u001b[0m\u001b[0;34m:\u001b[0m \u001b[0mstr\u001b[0m \u001b[0;34m=\u001b[0m \u001b[0;34mf'/content/drive/MyDrive/EVT/音频处理结果/{date.today()}'\u001b[0m   \u001b[0;31m#@param {type:\"string\"}\u001b[0m\u001b[0;34m\u001b[0m\u001b[0;34m\u001b[0m\u001b[0m\n\u001b[1;32m     36\u001b[0m \u001b[0;34m\u001b[0m\u001b[0m\n\u001b[0;32m---> 37\u001b[0;31m AudioConvertandSlice = Audio_Processing(\n\u001b[0m\u001b[1;32m     38\u001b[0m     \u001b[0mMedia_Dir_Input\u001b[0m\u001b[0;34m,\u001b[0m\u001b[0;34m\u001b[0m\u001b[0;34m\u001b[0m\u001b[0m\n\u001b[1;32m     39\u001b[0m     \u001b[0mMedia_Format_Output\u001b[0m\u001b[0;34m,\u001b[0m\u001b[0;34m\u001b[0m\u001b[0;34m\u001b[0m\u001b[0m\n",
            "\u001b[0;31mNameError\u001b[0m: name 'Audio_Processing' is not defined"
          ]
        }
      ],
      "source": [
        "#@title Execute 运行\n",
        "%cd /content/Easy-Voice-Toolkit\n",
        "\n",
        "from datetime import date\n",
        "from pathlib import Path\n",
        "from EVT_Core.AudioProcessor.process import Audio_Processing\n",
        "\n",
        "#@markdown **媒体输入目录**：需要输出为音频文件的媒体文件的目录\n",
        "Media_Dir_Input: str = '/content/drive/MyDrive/%MediaInput%'   #@param {type:\"string\"}\n",
        "#@markdown **媒体输出格式**：需要输出为的音频文件的格式\n",
        "Media_Format_Output: str = 'wav'   #@param [\"flac\", \"wav\", \"mp3\", \"aac\", \"ogg\", \"m4a\", \"wma\", \"aiff\", \"au\"]\n",
        "#@markdown **启用降噪**：音频中的噪声将被降噪处理\n",
        "Denoise_Audio: bool = True   #@param {type:\"boolean\"}\n",
        "#@markdown **降噪目标**：选择在降噪时要保留的声音对象\n",
        "Denoise_Target: str = '人声'   #@param [\"人声\", \"背景声\"]\n",
        "#@markdown **启用静音切除**：音频中的静音部分将被切除\n",
        "Slice_Audio: bool = True   #@param {type:\"boolean\"}\n",
        "#@markdown **均方根阈值 (db)**：低于该阈值的片段将被视作静音进行处理，若有降噪需求可以增加该值\n",
        "RMS_Threshold: float = -40.   #@param {type:\"number\"}\n",
        "#@markdown **跳跃大小 (ms)**：每个RMS帧的长度，增加该值能够提高分割精度但会减慢进程\n",
        "Hop_Size: int = 10   #@param {type:\"integer\"}\n",
        "#@markdown **最小静音间隔 (ms)**：静音部分被分割成的最小长度，若音频只包含短暂中断可以减小该值（注意：这个值必须小于 Audio Length Min，大于 Hop Size）\n",
        "Silent_Interval_Min: int = 300   #@param {type:\"integer\"}\n",
        "#@markdown **最大静音长度 (ms)**：被分割的音频周围保持静音的最大长度（提示：这个值无需完全对应被分割音频中的静音长度。算法将自行检索最佳的分割位置）\n",
        "Silence_Kept_Max: int = 1000   #@param {type:\"integer\"}\n",
        "#@markdown **最小音频长度 (ms)**：每个被分割的音频片段所需的最小长度\n",
        "Audio_Length_Min: int = 3000   #@param {type:\"integer\"}\n",
        "#@markdown **输出采样率**：输出音频所拥有的采样率，若维持不变则保持'None'即可\n",
        "SampleRate: int = None   #@param [\"None\", 44100, 48000, 96000, 192000]\n",
        "#@markdown **输出采样位数**：输出音频所拥有的采样位数，若维持不变则保持'None'即可\n",
        "SampleWidth: int = None   #@param [\"None\", 8, 16, 24, 32]\n",
        "#@markdown **合并声道**：将输出音频的声道合并为单声道\n",
        "ToMono: bool = False   #@param {type:\"boolean\"}\n",
        "#@markdown **输出目录**：用于保存最后生成的音频文件的目录\n",
        "Media_Dir_Output: str = f'/content/drive/MyDrive/EVT/音频处理结果/{date.today()}'   #@param {type:\"string\"}\n",
        "\n",
        "AudioConvertandSlice = Audio_Processing(\n",
        "    Media_Dir_Input,\n",
        "    Media_Format_Output,\n",
        "    SampleRate if SampleRate != \"None\" else None,\n",
        "    SampleWidth if SampleWidth != \"None\" else None,\n",
        "    ToMono,\n",
        "    Denoise_Audio,\n",
        "    '/content/models/download/uvr5/HP5_only_main_vocal.pth',\n",
        "    Denoise_Target,\n",
        "    Slice_Audio,\n",
        "    RMS_Threshold,\n",
        "    Audio_Length_Min,\n",
        "    Silent_Interval_Min,\n",
        "    Hop_Size,\n",
        "    Silence_Kept_Max,\n",
        "    Path(Media_Dir_Output).parent.__str__(),\n",
        "    Path(Media_Dir_Output).name\n",
        ")\n",
        "AudioConvertandSlice.processAudio()"
      ]
    },
    {
      "cell_type": "markdown",
      "metadata": {
        "id": "jOfpNzgA9DTa"
      },
      "source": [
        "### 语音识别 VoiceIdentifier\n",
        "在不同说话人的音频中批量筛选出属于同一说话人的音频"
      ]
    },
    {
      "cell_type": "code",
      "execution_count": 17,
      "metadata": {
        "colab": {
          "base_uri": "https://localhost:8080/",
          "height": 402
        },
        "id": "T9V7Gfal9DTa",
        "outputId": "b7264097-3ac0-47b0-ca7d-545f1efb8027"
      },
      "outputs": [
        {
          "output_type": "stream",
          "name": "stdout",
          "text": [
            "/content/Easy-Voice-Toolkit\n"
          ]
        },
        {
          "output_type": "error",
          "ename": "ModuleNotFoundError",
          "evalue": "No module named 'EVT_Core'",
          "traceback": [
            "\u001b[0;31m---------------------------------------------------------------------------\u001b[0m",
            "\u001b[0;31mModuleNotFoundError\u001b[0m                       Traceback (most recent call last)",
            "\u001b[0;32m<ipython-input-17-2727826259>\u001b[0m in \u001b[0;36m<cell line: 0>\u001b[0;34m()\u001b[0m\n\u001b[1;32m      4\u001b[0m \u001b[0;32mfrom\u001b[0m \u001b[0mdatetime\u001b[0m \u001b[0;32mimport\u001b[0m \u001b[0mdate\u001b[0m\u001b[0;34m\u001b[0m\u001b[0;34m\u001b[0m\u001b[0m\n\u001b[1;32m      5\u001b[0m \u001b[0;32mfrom\u001b[0m \u001b[0mpathlib\u001b[0m \u001b[0;32mimport\u001b[0m \u001b[0mPath\u001b[0m\u001b[0;34m\u001b[0m\u001b[0;34m\u001b[0m\u001b[0m\n\u001b[0;32m----> 6\u001b[0;31m \u001b[0;32mfrom\u001b[0m \u001b[0mEVT_Core\u001b[0m\u001b[0;34m.\u001b[0m\u001b[0mVPR\u001b[0m\u001b[0;34m.\u001b[0m\u001b[0minfer\u001b[0m \u001b[0;32mimport\u001b[0m \u001b[0mVoice_Contrasting\u001b[0m\u001b[0;34m\u001b[0m\u001b[0;34m\u001b[0m\u001b[0m\n\u001b[0m\u001b[1;32m      7\u001b[0m \u001b[0;34m\u001b[0m\u001b[0m\n\u001b[1;32m      8\u001b[0m \u001b[0;31m#@markdown **音频输入目录**：需要进行语音识别筛选的音频文件的目录\u001b[0m\u001b[0;34m\u001b[0m\u001b[0;34m\u001b[0m\u001b[0m\n",
            "\u001b[0;31mModuleNotFoundError\u001b[0m: No module named 'EVT_Core'",
            "",
            "\u001b[0;31m---------------------------------------------------------------------------\u001b[0;32m\nNOTE: If your import is failing due to a missing package, you can\nmanually install dependencies using either !pip or !apt.\n\nTo view examples of installing some common dependencies, click the\n\"Open Examples\" button below.\n\u001b[0;31m---------------------------------------------------------------------------\u001b[0m\n"
          ],
          "errorDetails": {
            "actions": [
              {
                "action": "open_url",
                "actionText": "Open Examples",
                "url": "/notebooks/snippets/importing_libraries.ipynb"
              }
            ]
          }
        }
      ],
      "source": [
        "#@title Execute 运行\n",
        "%cd /content/Easy-Voice-Toolkit\n",
        "\n",
        "from datetime import date\n",
        "from pathlib import Path\n",
        "from EVT_Core.VPR.infer import Voice_Contrasting\n",
        "\n",
        "#@markdown **音频输入目录**：需要进行语音识别筛选的音频文件的目录\n",
        "Audio_Dir_Input: str = '/content/drive/MyDrive/%...%'   #@param {type:\"string\"}\n",
        "#@markdown **目标人物与音频**：目标人物的名字及其语音文件的所在路径\n",
        "StdAudioSpeaker: dict = {'%SpeakerName%': '/content/drive/MyDrive/%StdAudio.wav%'}   #@param {type:\"raw\"}\n",
        "#@markdown **判断阈值**：判断是否为同一人的阈值，若参与比对的说话人声音相识度较高可以增加该值\n",
        "DecisionThreshold: float = 0.75   #@param {type:\"number\"}\n",
        "#@markdown **音频长度**：用于预测的音频长度\n",
        "Duration_of_Audio: float = 3.00   #@param {type:\"number\"}\n",
        "#@markdown **输出目录**：用于保存最后生成的结果文件的目录\n",
        "Output_Dir: str = f'/content/drive/MyDrive/EVT/语音识别结果/{date.today()}'   #@param {type:\"string\"}\n",
        "#@markdown **识别结果文本名**：用于保存最后生成的记录音频文件与对应说话人的txt文件的名字\n",
        "AudioSpeakersDataName: str = 'Recgonition'   #@param {type:\"string\"}\n",
        "\n",
        "import os, shutil\n",
        "def ASRResult_Update(AudioSpeakersData_Path: str, MoveToDst: str):\n",
        "    os.makedirs(MoveToDst, exist_ok = True) if Path(MoveToDst).exists() == False else None\n",
        "    with open(AudioSpeakersData_Path, mode = 'w', encoding = 'utf-8') as AudioSpeakersData:\n",
        "        AudioSpeakers = AudioSpeakersData.readlines()\n",
        "        Lines = []\n",
        "        for AudioSpeaker in AudioSpeakers:\n",
        "            Audio, Speaker = AudioSpeaker.split('|', maxsplit = 1)\n",
        "            if Speaker.strip() != '':\n",
        "                MoveToDst_Sub = Path(MoveToDst).joinpath(Speaker).as_posix()\n",
        "                os.makedirs(MoveToDst_Sub, exist_ok = True) if Path(MoveToDst_Sub).exists() == False else None\n",
        "                Audio_Dst = Path(MoveToDst_Sub).joinpath(Path(Audio).name).as_posix()\n",
        "                shutil.copy(Audio, MoveToDst_Sub) if not Path(Audio_Dst).exists() else None\n",
        "                Lines.append(f\"{Audio_Dst}|{Speaker}\\n\")\n",
        "        AudioSpeakersData.writelines(Lines)\n",
        "\n",
        "AudioContrastInference = Voice_Contrasting(\n",
        "    StdAudioSpeaker,\n",
        "    Audio_Dir_Input,\n",
        "    '/content/models/download/VPR/Ecapa-Tdnn_spectrogram.pth',\n",
        "    'Ecapa-Tdnn',\n",
        "    'spectrogram',\n",
        "    DecisionThreshold,\n",
        "    Duration_of_Audio,\n",
        "    Path(Output_Dir).parent.__str__(),\n",
        "    Path(Output_Dir).name,\n",
        "    AudioSpeakersDataName\n",
        ")\n",
        "AudioContrastInference.getModel()\n",
        "AudioContrastInference.inference()\n",
        "ASRResult_Update(\n",
        "    Path(Output_Dir).joinpath(AudioSpeakersDataName) + \".txt\",\n",
        "    Output_Dir\n",
        ")"
      ]
    },
    {
      "cell_type": "markdown",
      "metadata": {
        "id": "m7qwNPs39DTa"
      },
      "source": [
        "### 语音转录 VoiceTranscriber\n",
        "将语音文件的内容批量转换为带时间戳的文本并以字幕文件的形式保存"
      ]
    },
    {
      "cell_type": "code",
      "execution_count": null,
      "metadata": {
        "id": "ppr406-p9DTa"
      },
      "outputs": [],
      "source": [
        "#@title Execute 运行\n",
        "%cd /content/Easy-Voice-Toolkit\n",
        "\n",
        "from datetime import date\n",
        "from pathlib import Path\n",
        "from EVT_Core.Whisper.transcribe import Voice_Transcribing\n",
        "\n",
        "#@markdown **音频目录**：需要将语音内容转为文字的wav文件的目录\n",
        "Audio_Dir: str = '/content/drive/MyDrive/%EVT/语音识别结果/...%'   #@param {type:\"string\"}\n",
        "#@markdown **标注语言信息**：标注音频中说话人所使用的语言，若用于VITS数据集制作则建议启用\n",
        "Add_LanguageInfo: str = True   #@param {type:\"boolean\"}\n",
        "#@markdown **半精度训练**：主要使用半精度浮点数进行计算，若GPU不可用则忽略或禁用此项\n",
        "fp16: bool = True   #@param {type:\"boolean\"}\n",
        "#@markdown **启用输出日志**：是否输出debug日志\n",
        "Verbose: bool = True   #@param {type:\"boolean\"}\n",
        "#@markdown **关联上下文**：在音频之间的内容具有关联性时启用该项可以获得更好的效果，若模型陷入了失败循环则禁用此项\n",
        "Condition_on_Previous_Text: bool = False   #@param {type:\"boolean\"}\n",
        "#@markdown **输出目录**：最后生成的字幕文件将会保存到该目录中\n",
        "Output_Dir: str = f'/content/drive/MyDrive/EVT/语音转录结果/{date.today()}'   #@param {type:\"string\"}\n",
        "\n",
        "WAVtoSRT = Voice_Transcribing(\n",
        "    '/content/models/download/Whisper/base.pt',\n",
        "    Audio_Dir,\n",
        "    Verbose,\n",
        "    Add_LanguageInfo,\n",
        "    Condition_on_Previous_Text,\n",
        "    fp16,\n",
        "    Path(Output_Dir).parent.__str__(),\n",
        "    Path(Output_Dir).name\n",
        ")\n",
        "WAVtoSRT.transcribe()"
      ]
    },
    {
      "cell_type": "markdown",
      "metadata": {
        "id": "jTfKRJU19DTa"
      },
      "source": [
        "### GPT-SoVITS数据集制作 DatasetCreator - GPT-SoVITS\n",
        "生成适用于语音模型训练的数据集"
      ]
    },
    {
      "cell_type": "code",
      "execution_count": null,
      "metadata": {
        "id": "i0oigpMI9DTb"
      },
      "outputs": [],
      "source": [
        "#@title Execute 运行\n",
        "%cd /content/Easy-Voice-Toolkit\n",
        "\n",
        "from datetime import date\n",
        "from pathlib import Path\n",
        "from EVT_Core.GPT_SoVITS.preprocess import Dataset_Creating\n",
        "\n",
        "#@markdown **音频文件目录/语音识别结果文件路径**：音频文件的所在目录（要求按说话人分类），或者提供由语音识别得到的文本文件的所在路径\n",
        "AudioSpeakersData_Path: str = '/content/drive/MyDrive/%EVT/语音识别结果/GPT-SoVITS/...%'   #@param {type:\"string\"}\n",
        "#@markdown **字幕输入目录**：需要转为适用于模型训练的csv文件的srt文件的目录\n",
        "SRT_Dir: str = '/content/drive/MyDrive/%EVT/语音转录结果/GPT-SoVITS/...%'   #@param {type:\"string\"}\n",
        "#@markdown **输出目录**：用于保存最后生成的数据集的目录\n",
        "Output_Dir: str = f'/content/drive/MyDrive/EVT/数据集制作结果/GPT-SoVITS/{date.today()}'   #@param {type:\"string\"}\n",
        "#@markdown **训练集文本名**：用于保存最后生成的训练集txt文件的名字\n",
        "FileList_Name_Training: str = 'train'   #@param {type:\"string\"}\n",
        "\n",
        "SRTtoCSVandSplitAudio = Dataset_Creating(\n",
        "    SRT_Dir = SRT_Dir,\n",
        "    AudioSpeakersData_Path = AudioSpeakersData_Path,\n",
        "    Output_Root = Path(Output_Dir).parent.__str__(),\n",
        "    Output_DirName = Path(Output_Dir).name,\n",
        "    FileList_Name = FileList_Name_Training\n",
        ")\n",
        "SRTtoCSVandSplitAudio.run()"
      ]
    },
    {
      "cell_type": "markdown",
      "metadata": {
        "id": "iC0UdV969DTb"
      },
      "source": [
        "### GPT-SoVITS模型训练 VoiceTrainer - GPT-SoVITS\n",
        "训练出适用于语音合成的模型文件（若在使用过程中出现报错，可以尝试先`断开连接并删除运行时`，然后重新运行 Configure Colab 部分以及本代码块）"
      ]
    },
    {
      "cell_type": "code",
      "execution_count": null,
      "metadata": {
        "id": "yfbKuo9s9DTb"
      },
      "outputs": [],
      "source": [
        "#@title Execute 运行\n",
        "%cd /content/Easy-Voice-Toolkit\n",
        "\n",
        "from datetime import date\n",
        "from pathlib import Path\n",
        "from EVT_Core.GPT_SoVITS.train import train\n",
        "\n",
        "#@markdown **训练版本**\n",
        "version: str = 'v2'   #@param [\"v2\", \"v3\"]\n",
        "#@markdown **训练集文本路径**：用于提供训练集音频路径及其语音内容的训练集txt文件的路径\n",
        "fileList_path: str = '/content/drive/MyDrive/%EVT/数据集制作结果/GPT-SoVITS/train.txt%'   #@param {type:\"string\"}\n",
        "#@markdown **半精度训练**：通过混合了float16精度的训练方式减小显存占用以支持更大的批处理量\n",
        "half_precision: bool = True   #@param {type:\"boolean\"}\n",
        "#@markdown **输出目录**：用于存放生成的模型和配置文件的目录，若目录中已存在模型则会将其视为检查点（注意：当目录中存在多个模型时，编号最大的会被选为检查点）\n",
        "Output_Dir: str = f'/content/drive/MyDrive/EVT/模型训练结果/GPT-SoVITS/{date.today()}'   #@param {type:\"string\"}\n",
        "\n",
        "PreprocessandTrain = train(\n",
        "    version,\n",
        "    fileList_path,\n",
        "    modelDir_bert = '/content/models/download/GPT-SoVITS/chinese-roberta-wwm-ext-large',\n",
        "    modelDir_hubert = '/content/models/download/GPT-SoVITS/chinese-hubert-base',\n",
        "    modelPath_gpt = '/content/models/download/GPT-SoVITS/s1bert25hz-2kh-longer-epoch=68e-step=50232.ckpt',\n",
        "    modelPath_sovitsG = '/content/models/download/GPT-SoVITS/s2G488k.pth',\n",
        "    modelPath_sovitsD = '/content/models/download/GPT-SoVITS/s2D488k.pth',\n",
        "    half_precision = half_precision,\n",
        "    if_grad_ckpt = False,\n",
        "    lora_rank = 32,\n",
        "    Output_Root = Path(Output_Dir).parent.__str__(),\n",
        "    Output_DirName = Path(Output_Dir).name,\n",
        "    Output_LogDir = \"/content/drive/MyDrive/EVT/log\"\n",
        ")"
      ]
    },
    {
      "cell_type": "markdown",
      "metadata": {
        "id": "YSX8Xvj19DTb"
      },
      "source": [
        "### GPT-SoVITS语音合成 VoiceConverter - GPT-SoVITS\n",
        "将文字转为语音并生成音频文件"
      ]
    },
    {
      "cell_type": "code",
      "execution_count": null,
      "metadata": {
        "id": "bCvTukQR9DTb"
      },
      "outputs": [],
      "source": [
        "#@title Execute 运行\n",
        "%cd /content/Easy-Voice-Toolkit\n",
        "\n",
        "from EVT_Core.GPT_SoVITS.infer_webui import infer\n",
        "\n",
        "#@markdown **推理版本**\n",
        "version: str = 'v2'   #@param [\"v2\", \"v3\"]\n",
        "#@markdown **半精度推理**：通过混合了float16精度的推理方式减小显存占用以支持更大的批处理量\n",
        "half_precision: bool = True   #@param {type:\"boolean\"}\n",
        "# #@markdown **启用批处理推理**：通过批处理推理的方式减小显存占用以支持更大的批处理量\n",
        "# batched_infer: bool = True   #@param {type:\"boolean\"}\n",
        "\n",
        "VoiceConverting = infer(\n",
        "    version,\n",
        "    sovits_path = '/content/models/download/GPT-SoVITS/s1bert25hz-2kh-longer-epoch=68e-step=50232.ckpt',\n",
        "    path_sovits_v3 = '/content/models/download/GPT-SoVITS/s2Gv3.pth',\n",
        "    gpt_path = '/content/models/download/GPT-SoVITS/s2G488k.pth',\n",
        "    cnhubert_base_path = '/content/models/download/GPT-SoVITS/chinese-hubert-base',\n",
        "    bert_path = '/content/models/download/GPT-SoVITS/chinese-roberta-wwm-ext-large',\n",
        "    bigvgan_path = '/content/models/download/GPT-SoVITS/models--nvidia--bigvgan_v2_24khz_100band_256x',\n",
        "    half_precision = half_precision,\n",
        "    # batched_infer = batched_infer,\n",
        ")"
      ]
    },
    {
      "cell_type": "markdown",
      "metadata": {
        "id": "nKKFYOgf9DTc"
      },
      "source": [
        "### VITS2数据集制作 DatasetCreator - VITS2\n",
        "生成适用于语音模型训练的数据集"
      ]
    },
    {
      "cell_type": "code",
      "execution_count": null,
      "metadata": {
        "id": "5PhgJjl_9DTc"
      },
      "outputs": [],
      "source": [
        "#@title Execute 运行\n",
        "%cd /content/Easy-Voice-Toolkit\n",
        "\n",
        "from datetime import date\n",
        "from pathlib import Path\n",
        "from EVT_Core.VITS.preprocess import Dataset_Creating\n",
        "\n",
        "#@markdown **音频文件目录/语音识别结果文件路径**：音频文件的所在目录（要求按说话人分类），或者提供由语音识别得到的文本文件的所在路径\n",
        "AudioSpeakersData_Path: str = '/content/drive/MyDrive/%EVT/语音识别结果/VITS/...%'   #@param {type:\"string\"}\n",
        "#@markdown **字幕输入目录**：需要转为适用于模型训练的csv文件的srt文件的目录\n",
        "SRT_Dir: str = '/content/drive/MyDrive/%EVT/语音转录结果/VITS/...%'   #@param {type:\"string\"}\n",
        "#@markdown **添加辅助数据**：添加用以辅助训练的数据集，若当前语音数据的质量/数量较低则建议启用\n",
        "Add_AuxiliaryData: bool = False   #@param {type:\"boolean\"}\n",
        "#@markdown **辅助数据文本路径**：辅助数据集的文本的所在路径\n",
        "AuxiliaryData_Path: str = '/content/drive/MyDrive/%EVT/AuxiliaryData/VITS/AuxiliaryData.txt%'   #@param {type:\"string\"}\n",
        "#@markdown **添加其它语言辅助数据**：启用以允许添加与当前数据集语言不匹配的辅助数据\n",
        "Add_UnmatchedLanguage: bool = False   #@param {type:\"boolean\"}\n",
        "#@markdown **采样率 (HZ)**：数据集所要求的音频采样率，若维持不变则保持'None'即可\n",
        "SampleRate: int = 22050   #@param [\"None\", 22050, 44100, 48000, 96000, 192000]\n",
        "#@markdown **采样位数**：数据集所要求的音频采样位数，若维持不变则保持'None'即可\n",
        "SampleWidth: str = '16'   #@param [\"None\", 8, 16, 24, 32]\n",
        "#@markdown **合并声道**：将输出音频的声道合并为单声道\n",
        "ToMono: bool = True   #@param {type:\"boolean\"}\n",
        "#@markdown **训练集占比**：划分给训练集的数据在数据集中所占的比例\n",
        "TrainRatio: float = 0.7   #@param {type:\"number\"}\n",
        "#@markdown **输出目录**：用于保存最后生成的数据集的目录\n",
        "Output_Dir: str = f'/content/drive/MyDrive/EVT/数据集制作结果/VITS/{date.today()}'   #@param {type:\"string\"}\n",
        "#@markdown **训练集文本名**：用于保存最后生成的训练集txt文件的名字\n",
        "FileList_Name_Training: str = 'train'   #@param {type:\"string\"}\n",
        "#@markdown **验证集文本名**：用于保存最后生成的验证集txt文件的名字\n",
        "FileList_Name_Validation: str = 'Val'   #@param {type:\"string\"}\n",
        "\n",
        "SRTtoCSVandSplitAudio = Dataset_Creating(\n",
        "    SRT_Dir,\n",
        "    AudioSpeakersData_Path,\n",
        "    SampleRate if SampleRate != \"None\" else None,\n",
        "    SampleWidth if SampleWidth != \"None\" else None,\n",
        "    ToMono,\n",
        "    Add_AuxiliaryData,\n",
        "    AuxiliaryData_Path,\n",
        "    Add_UnmatchedLanguage,\n",
        "    TrainRatio,\n",
        "    Path(Output_Dir).parent.__str__(),\n",
        "    Path(Output_Dir).name,\n",
        "    FileList_Name_Training,\n",
        "    FileList_Name_Validation\n",
        ")\n",
        "SRTtoCSVandSplitAudio.run()"
      ]
    },
    {
      "cell_type": "markdown",
      "metadata": {
        "id": "XfloIWyw9DTc"
      },
      "source": [
        "### VITS2模型训练 VoiceTrainer - VITS2\n",
        "训练出适用于语音合成的模型文件（若在使用过程中出现报错，可以尝试先`断开连接并删除运行时`，然后重新运行 Configure Colab 部分以及本代码块）"
      ]
    },
    {
      "cell_type": "code",
      "execution_count": null,
      "metadata": {
        "id": "NK1OWFlO9DTc"
      },
      "outputs": [],
      "source": [
        "#@title Execute 运行\n",
        "%cd /content/Easy-Voice-Toolkit\n",
        "\n",
        "from datetime import date\n",
        "from pathlib import Path\n",
        "from EVT_Core.VITS.train import train\n",
        "\n",
        "#@markdown **训练集文本路径**：用于提供训练集音频路径及其语音内容的训练集txt文件的路径\n",
        "FileList_Path_Training: str = '/content/drive/MyDrive/%EVT/数据集制作结果/VITS/train.txt%'   #@param {type:\"string\"}\n",
        "#@markdown **验证集文本路径**：用于提供验证集音频路径及其语音内容的验证集txt文件的路径\n",
        "FileList_Path_Validation: str = '/content/drive/MyDrive/%EVT/数据集制作结果/VITS/Val.txt%'   #@param {type:\"string\"}\n",
        "#@markdown **迭代次数**：将全部样本完整迭代一轮的次数\n",
        "Epochs: int = 300   #@param {type:\"integer\"}\n",
        "#@markdown **批处理量**：每轮迭代中单位批次的样本数量（注意：最好设置为2的幂次）\n",
        "Batch_Size: int = 16   #@param {type:\"integer\"}\n",
        "#@markdown **使用预训练模型**：使用预训练模型（底模），注意其载入优先级高于检查点\n",
        "Use_PretrainedModels: bool = True   #@param {type:\"boolean\"}\n",
        "#@markdown **[可选]预训练G模型路径**：预训练生成器（Generator）模型的路径\n",
        "Model_Path_Pretrained_G: str = '/content/drive/MyDrive/%EVT/Pretrained Models/standard_G.pth%'   #@param {type:\"string\"}\n",
        "#@markdown **[可选]预训练D模型路径**：预训练判别器（Discriminator）模型的路径\n",
        "Model_Path_Pretrained_D: str = '/content/drive/MyDrive/%EVT/Pretrained Models/standard_D.pth%'   #@param {type:\"string\"}\n",
        "#@markdown **[可选]保留原说话人**：保留底模中原有的说话人，请保证每个原角色至少有一两条音频参与训练\n",
        "Keep_Original_Speakers: bool = False   #@param {type:\"boolean\"}\n",
        "#@markdown **[可选]配置加载路径**：用于加载底模人物信息的配置文件的所在路径\n",
        "Config_Path_Load: str = '/content/drive/MyDrive/%EVT/Pretrained Models/standard_Config.json%'   #@param {type:\"string\"}\n",
        "#@markdown **进程数量**：进行数据加载时可并行的进程数量\n",
        "Num_Workers: int = 8   #@param {type:\"integer\"}\n",
        "#@markdown **半精度训练**：通过混合了float16精度的训练方式减小显存占用以支持更大的批处理量\n",
        "FP16_Run: bool = True   #@param {type:\"boolean\"}\n",
        "#@markdown **评估间隔**：每次保存模型所间隔的step数\n",
        "Eval_Interval: int = 1000   #@param {type:\"integer\"}\n",
        "#@markdown **输出目录**：用于存放生成的模型和配置文件的目录，若目录中已存在模型则会将其视为检查点（注意：当目录中存在多个模型时，编号最大的会被选为检查点）\n",
        "Output_Dir: str = f'/content/drive/MyDrive/EVT/模型训练结果/VITS/{date.today()}'   #@param {type:\"string\"}\n",
        "\n",
        "# Load the TensorBoard notebook extension\n",
        "%load_ext tensorboard\n",
        "# Start TensorBoard\n",
        "%tensorboard --logdir /content/drive/MyDrive/EVT/TrainResult\n",
        "\n",
        "PreprocessandTrain = train(\n",
        "    FileList_Path_Training,\n",
        "    FileList_Path_Validation,\n",
        "    Eval_Interval,\n",
        "    Epochs,\n",
        "    Batch_Size,\n",
        "    FP16_Run,\n",
        "    Keep_Original_Speakers,\n",
        "    Config_Path_Load,\n",
        "    Num_Workers,\n",
        "    Use_PretrainedModels,\n",
        "    Model_Path_Pretrained_G if Model_Path_Pretrained_G != \"None\" else None,\n",
        "    Model_Path_Pretrained_D if Model_Path_Pretrained_D != \"None\" else None,\n",
        "    Path(Output_Dir).parent.__str__(),\n",
        "    Path(Output_Dir).name,\n",
        "    \"/content/drive/MyDrive/EVT/log\"\n",
        ")"
      ]
    },
    {
      "cell_type": "markdown",
      "metadata": {
        "id": "zgCuUquP9DTc"
      },
      "source": [
        "### VITS2语音合成 VoiceConverter - VITS2\n",
        "将文字转为语音并生成音频文件"
      ]
    },
    {
      "cell_type": "code",
      "execution_count": null,
      "metadata": {
        "id": "VydrtfED9DTd"
      },
      "outputs": [],
      "source": [
        "#@title Execute 运行\n",
        "%cd /content/Easy-Voice-Toolkit\n",
        "\n",
        "from datetime import date\n",
        "from pathlib import Path\n",
        "from EVT_Core.VITS.infer import infer\n",
        "\n",
        "#@markdown **配置加载路径**：该路径对应的配置文件会用于推理\n",
        "Config_Path_Load: str = '/content/drive/MyDrive/%EVT/模型训练结果/VITS/Config.json%'   #@param {type:\"string\"}\n",
        "#@markdown **G模型加载路径**：用于推理的生成器（Generator）模型所在路径\n",
        "Model_Path_Load: str = '/content/drive/MyDrive/%EVT/模型训练结果/VITS/G_*.pth%'   #@param {type:\"string\"}\n",
        "#@markdown **输入文字**：输入的文字会作为说话人的语音内容\n",
        "Text: str = '请输入语句'   #@param {type:\"string\"}\n",
        "#@markdown **所用语言**：说话人/文字所使用的语言，若使用自动检测则保持'None'即可\n",
        "Language: str = '[ZH]'   #@param [\"None\", \"[ZH]\", \"[EN]\", \"[JA]\"]\n",
        "#@markdown **人物名字**：说话人物的名字\n",
        "Speaker: str = '%Name%'   #@param {type:\"string\"}\n",
        "#@markdown **情感强度**：情感的变化程度\n",
        "EmotionStrength: float = .667   #@param {type:\"number\"}\n",
        "#@markdown **音素音长**：音素的发音长度\n",
        "PhonemeDuration: float = 0.8   #@param {type:\"number\"}\n",
        "#@markdown **整体语速**：整体的说话速度\n",
        "SpeechRate: float = 1.0   #@param {type:\"number\"}\n",
        "#@markdown **音频保存路径**：用于保存推理得到的音频的路径\n",
        "Audio_Path_Save: str = f'/content/drive/MyDrive/EVT/语音合成结果/VITS/{date.today()}.wav'   #@param {type:\"string\"}\n",
        "\n",
        "VoiceConverting = infer(\n",
        "    Config_Path_Load,\n",
        "    Model_Path_Load,\n",
        "    Text,\n",
        "    Language,\n",
        "    Speaker,\n",
        "    EmotionStrength,\n",
        "    PhonemeDuration,\n",
        "    SpeechRate,\n",
        "    Audio_Path_Save\n",
        ")"
      ]
    },
    {
      "cell_type": "code",
      "metadata": {
        "colab": {
          "base_uri": "https://localhost:8080/"
        },
        "id": "213c71bc",
        "outputId": "b2032b4f-68d0-4b05-de51-d8f98e23c6a0"
      },
      "source": [
        "# Install the required package\n",
        "!pip install -q Easy-Voice-Toolkit"
      ],
      "execution_count": 11,
      "outputs": [
        {
          "output_type": "stream",
          "name": "stdout",
          "text": [
            "\u001b[31mERROR: Could not find a version that satisfies the requirement Easy-Voice-Toolkit (from versions: none)\u001b[0m\u001b[31m\n",
            "\u001b[0m\u001b[31mERROR: No matching distribution found for Easy-Voice-Toolkit\u001b[0m\u001b[31m\n",
            "\u001b[0m"
          ]
        }
      ]
    }
  ],
  "metadata": {
    "accelerator": "GPU",
    "colab": {
      "provenance": []
    },
    "kernelspec": {
      "display_name": "base",
      "language": "python",
      "name": "python3"
    },
    "language_info": {
      "codemirror_mode": {
        "name": "ipython",
        "version": 3
      },
      "file_extension": ".py",
      "mimetype": "text/x-python",
      "name": "python",
      "nbconvert_exporter": "python",
      "pygments_lexer": "ipython3",
      "version": "3.9.16"
    }
  },
  "nbformat": 4,
  "nbformat_minor": 0
}